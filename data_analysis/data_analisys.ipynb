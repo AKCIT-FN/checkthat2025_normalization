{
  "cells": [
    {
      "cell_type": "code",
      "execution_count": null,
      "metadata": {
        "colab": {
          "base_uri": "https://localhost:8080/"
        },
        "id": "Apovradw9ndk",
        "outputId": "052f90db-daea-48fa-a7a3-237def6fb8a3"
      },
      "outputs": [],
      "source": [
        "!git clone https://gitlab.com/checkthat_lab/clef2025-checkthat-lab.git"
      ]
    },
    {
      "cell_type": "code",
      "execution_count": null,
      "metadata": {
        "colab": {
          "base_uri": "https://localhost:8080/"
        },
        "id": "LXGCJrZo9CF0",
        "outputId": "2d4d26f0-3d72-4319-f3a6-541a1f856955"
      },
      "outputs": [],
      "source": [
        "%cd clef2025-checkthat-lab/task2/data"
      ]
    },
    {
      "cell_type": "code",
      "execution_count": null,
      "metadata": {
        "id": "hQDl7fm442H6"
      },
      "outputs": [],
      "source": [
        "import os\n",
        "import re\n",
        "import json\n",
        "\n",
        "from matplotlib.ticker import PercentFormatter\n",
        "import plotly.graph_objects as go\n",
        "import matplotlib.pyplot as plt\n",
        "import plotly.express as px\n",
        "import matplotlib\n",
        "import numpy as np\n",
        "import pandas as pd\n",
        "import zipfile\n",
        "\n",
        "pd.set_option('max_colwidth', 300)"
      ]
    },
    {
      "cell_type": "code",
      "execution_count": null,
      "metadata": {
        "id": "31WSJbo65YnC"
      },
      "outputs": [],
      "source": [
        "train_path = \"train/train-por.csv\"\n",
        "dev_path = \"dev/dev-por.csv\"\n",
        "test_path = \"test/test-por.csv\"\n",
        "\n",
        "train_df = pd.read_csv(train_path)\n",
        "dev_df = pd.read_csv(dev_path)\n",
        "test_df = pd.read_csv(test_path)"
      ]
    },
    {
      "cell_type": "code",
      "execution_count": null,
      "metadata": {
        "colab": {
          "base_uri": "https://localhost:8080/",
          "height": 293
        },
        "id": "7gAfxZlYNQIo",
        "outputId": "433ce714-d85e-4f56-ac66-4c298674ece7"
      },
      "outputs": [],
      "source": [
        "train_df.head()"
      ]
    },
    {
      "cell_type": "code",
      "execution_count": null,
      "metadata": {
        "colab": {
          "base_uri": "https://localhost:8080/",
          "height": 363
        },
        "id": "RxnZrroSNUi4",
        "outputId": "88bd225e-025b-4e9b-c4df-14655c1449ca"
      },
      "outputs": [],
      "source": [
        "dev_df.head()"
      ]
    },
    {
      "cell_type": "code",
      "execution_count": null,
      "metadata": {
        "colab": {
          "base_uri": "https://localhost:8080/",
          "height": 276
        },
        "id": "qlLwL5q6TP9T",
        "outputId": "9f29cd25-f594-40bc-bb8e-35dd0019f57b"
      },
      "outputs": [],
      "source": [
        "test_df.head()"
      ]
    },
    {
      "cell_type": "code",
      "execution_count": null,
      "metadata": {
        "id": "Z1opWrANi7AO"
      },
      "outputs": [],
      "source": [
        "def remove_repetitions(text):\n",
        "    if isinstance(text, str):\n",
        "        text = re.sub(r'\\s*None\\s*$', '', text)\n",
        "\n",
        "        words = text.split()\n",
        "\n",
        "        for size in range(1, len(words) // 2 + 1):\n",
        "            pattern = words[:size]\n",
        "            repeats = len(words) // size\n",
        "\n",
        "            if words[:size * repeats] == pattern * repeats:\n",
        "                return \" \".join(pattern)\n",
        "\n",
        "    return text"
      ]
    },
    {
      "cell_type": "code",
      "execution_count": null,
      "metadata": {
        "colab": {
          "base_uri": "https://localhost:8080/"
        },
        "id": "A1QClV0ti-lo",
        "outputId": "6c572a36-f18b-49b4-92a4-f1febba77b54"
      },
      "outputs": [],
      "source": [
        "train_df['post'] = train_df['post'].apply(remove_repetitions)\n",
        "dev_df['post'] = dev_df['post'].apply(remove_repetitions)\n",
        "test_df['post'] = test_df['post'].apply(remove_repetitions)\n",
        "\n",
        "train_cleaned_path = \"train/train_cleaned.csv\"\n",
        "dev_cleaned_path = \"dev/dev_cleaned.csv\"\n",
        "test_cleaned_path = \"test/test_cleaned.csv\"\n",
        "\n",
        "train_df.to_csv(train_cleaned_path, index=False)\n",
        "dev_df.to_csv(dev_cleaned_path, index=False)\n",
        "test_df.to_csv(test_cleaned_path, index=False)\n",
        "\n",
        "print(\"Corrected files saved successfully!\")\n",
        "print(f\"Train: {train_cleaned_path}\")\n",
        "print(f\"Dev: {dev_cleaned_path}\")\n",
        "print(f\"Test: {test_cleaned_path}\")"
      ]
    },
    {
      "cell_type": "code",
      "execution_count": null,
      "metadata": {
        "id": "twVh4pHf9w9D"
      },
      "outputs": [],
      "source": [
        "train_lengths = train_df.map(lambda x: len(str(x).split()))\n",
        "dev_lengths = dev_df.map(lambda x: len(str(x).split()))"
      ]
    },
    {
      "cell_type": "code",
      "execution_count": null,
      "metadata": {
        "colab": {
          "base_uri": "https://localhost:8080/",
          "height": 300
        },
        "id": "9rmS5DO19-bx",
        "outputId": "89ab0345-12c1-4440-f3e9-ce54cefa8f7b"
      },
      "outputs": [],
      "source": [
        "train_lengths.describe().round(1)"
      ]
    },
    {
      "cell_type": "code",
      "execution_count": null,
      "metadata": {
        "colab": {
          "base_uri": "https://localhost:8080/",
          "height": 300
        },
        "id": "wQnnv9Nm-HDh",
        "outputId": "0a1986c4-6a65-48ff-9d25-2d25017bc779"
      },
      "outputs": [],
      "source": [
        "dev_lengths.describe().round(1)"
      ]
    },
    {
      "cell_type": "code",
      "execution_count": null,
      "metadata": {
        "colab": {
          "base_uri": "https://localhost:8080/"
        },
        "id": "Xw5x4ObGfGpt",
        "outputId": "10e3c3ad-100f-447d-815d-44cff83cb70c"
      },
      "outputs": [],
      "source": [
        "def count_none_occurrences(file_path):\n",
        "    df = pd.read_csv(file_path)\n",
        "    none_count = df['post'].astype(str).apply(lambda x: x.strip().lower().endswith('none')).sum()\n",
        "    none_count /= df.shape[0]\n",
        "    none_count *= 100\n",
        "    none_count = round(none_count, 2)\n",
        "\n",
        "    return none_count\n",
        "\n",
        "train_none_count = count_none_occurrences(train_path)\n",
        "dev_none_count = count_none_occurrences(dev_path)\n",
        "test_none_count = count_none_occurrences(test_path)\n",
        "\n",
        "print(\"Occurrences of 'None' at the end of the 'post' column:\")\n",
        "print(f\"Train: {train_none_count}\")\n",
        "print(f\"Dev: {dev_none_count}\")\n",
        "print(f\"Test: {test_none_count}\")"
      ]
    },
    {
      "cell_type": "code",
      "execution_count": null,
      "metadata": {
        "id": "2SmDRPjl7rc6"
      },
      "outputs": [],
      "source": [
        "def make_histogram(column):\n",
        "  median = pd.concat([train_lengths[column], dev_lengths[column]]).median()\n",
        "  fig = plt.figure(figsize=(4.5, 4.5))\n",
        "\n",
        "  plt.ylabel(\"Percentage\")\n",
        "  plt.xlabel(\"Word count\")\n",
        "  matplotlib.rcParams.update({'font.size': 12})\n",
        "\n",
        "  plt.plot()\n",
        "  plt.hist(train_lengths[column], bins=30, alpha=0.7, label=\"Train\", density=True)\n",
        "  plt.hist(dev_lengths[column], bins=30, alpha=0.7, label=\"Dev\", density=True)\n",
        "  plt.axvline(median, color='k', linestyle='dashed', linewidth=1, label=f\"Median = {median}\")\n",
        "  fig.gca().yaxis.set_major_formatter(PercentFormatter(1))\n",
        "  plt.legend()\n",
        "  plt.tight_layout()\n",
        "  plt.savefig(f\"{column}.pdf\")"
      ]
    },
    {
      "cell_type": "code",
      "execution_count": null,
      "metadata": {
        "colab": {
          "base_uri": "https://localhost:8080/",
          "height": 450
        },
        "id": "K-WfPuDx7mtU",
        "outputId": "5de4d765-5295-45cf-fa1e-b091bbe8dff0"
      },
      "outputs": [],
      "source": [
        "make_histogram(\"post\")\n",
        "plt.show()"
      ]
    },
    {
      "cell_type": "code",
      "execution_count": null,
      "metadata": {
        "colab": {
          "base_uri": "https://localhost:8080/",
          "height": 451
        },
        "id": "88PpSzyT0ORZ",
        "outputId": "6faa399e-a8ed-43c7-ac17-4ff92668bc52"
      },
      "outputs": [],
      "source": [
        "make_histogram(\"normalized claim\")\n",
        "plt.show()"
      ]
    },
    {
      "cell_type": "code",
      "execution_count": null,
      "metadata": {
        "colab": {
          "base_uri": "https://localhost:8080/",
          "height": 468
        },
        "id": "dLzUggeV95_a",
        "outputId": "452c67cc-b2fe-49e8-f4c8-6f247ab9dcdd"
      },
      "outputs": [],
      "source": [
        "fig, ax = plt.subplots(figsize=(6, 5))\n",
        "bars = plt.bar([\"Train\", \"Validation\", \"Test\"], [len(train_df), len(dev_df), len(test_df)], color=[\"blue\", \"orange\", \"green\"])\n",
        "ax.bar_label(bars)\n",
        "plt.ylabel(\"Number of Examples\")\n",
        "plt.title(\"Comparison of Number of Examples per Set\")\n",
        "plt.show()\n"
      ]
    },
    {
      "cell_type": "code",
      "execution_count": null,
      "metadata": {
        "colab": {
          "base_uri": "https://localhost:8080/",
          "height": 614
        },
        "id": "T8Hu3qaj-imy",
        "outputId": "ddfd20bb-cedc-44d4-e7b8-a4913c027f13"
      },
      "outputs": [],
      "source": [
        "plt.figure(figsize=(10, 6))\n",
        "plt.boxplot([\n",
        "    train_df[\"post\"].apply(lambda x: len(str(x).split())),\n",
        "    train_df[\"normalized claim\"].apply(lambda x: len(str(x).split())),\n",
        "    dev_df[\"post\"].apply(lambda x: len(str(x).split())),\n",
        "    dev_df[\"normalized claim\"].apply(lambda x: len(str(x).split()))\n",
        "], labels=[\"Train - Post\", \"Train - Claim\", \"Validation - Post\", \"Validation - Claim\"])\n",
        "\n",
        "plt.ylabel(\"Number of Words\")\n",
        "plt.title(\"Distribution of Post and Claim Lengths\")\n",
        "plt.show()\n"
      ]
    }
  ],
  "metadata": {
    "colab": {
      "provenance": []
    },
    "kernelspec": {
      "display_name": "Python 3",
      "name": "python3"
    },
    "language_info": {
      "name": "python"
    }
  },
  "nbformat": 4,
  "nbformat_minor": 0
}

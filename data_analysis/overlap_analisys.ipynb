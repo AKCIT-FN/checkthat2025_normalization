{
 "cells": [
  {
   "cell_type": "code",
   "execution_count": 6,
   "metadata": {
    "executionInfo": {
     "elapsed": 5,
     "status": "ok",
     "timestamp": 1741900747907,
     "user": {
      "displayName": "KAUAN DIVINO POUSO MARIANO",
      "userId": "14311127733215428590"
     },
     "user_tz": 180
    },
    "id": "J6-DXNhhwRDt"
   },
   "outputs": [],
   "source": [
    "import pandas as pd\n",
    "import matplotlib.pyplot as plt\n",
    "from matplotlib_venn import venn3"
   ]
  },
  {
   "cell_type": "code",
   "execution_count": null,
   "metadata": {
    "colab": {
     "base_uri": "https://localhost:8080/"
    },
    "executionInfo": {
     "elapsed": 110,
     "status": "ok",
     "timestamp": 1741900748933,
     "user": {
      "displayName": "KAUAN DIVINO POUSO MARIANO",
      "userId": "14311127733215428590"
     },
     "user_tz": 180
    },
    "id": "grKDDBsztRAA",
    "outputId": "7861657d-817b-49ae-d45f-6df29eeae0b2"
   },
   "outputs": [],
   "source": [
    "train_df = pd.read_csv(\"train-por.csv\")\n",
    "dev_df = pd.read_csv(\"dev-por.csv\")\n",
    "test_df = pd.read_csv(\"test-por.csv\")\n",
    "\n",
    "train_df.info()\n",
    "dev_df.info()\n",
    "test_df.info()"
   ]
  },
  {
   "cell_type": "code",
   "execution_count": null,
   "metadata": {
    "colab": {
     "base_uri": "https://localhost:8080/",
     "height": 637
    },
    "executionInfo": {
     "elapsed": 170,
     "status": "ok",
     "timestamp": 1741900751181,
     "user": {
      "displayName": "KAUAN DIVINO POUSO MARIANO",
      "userId": "14311127733215428590"
     },
     "user_tz": 180
    },
    "id": "c55fwifvws_b",
    "outputId": "7a62800b-2984-4773-994a-52895f65f662"
   },
   "outputs": [],
   "source": [
    "print(\"Train Dataset:\")\n",
    "display(train_df.head())\n",
    "\n",
    "print(\"Dev Dataset:\")\n",
    "display(dev_df.head())\n",
    "\n",
    "print(\"Test Dataset:\")\n",
    "display(test_df.head())"
   ]
  },
  {
   "cell_type": "code",
   "execution_count": null,
   "metadata": {
    "colab": {
     "base_uri": "https://localhost:8080/"
    },
    "executionInfo": {
     "elapsed": 18,
     "status": "ok",
     "timestamp": 1741900753358,
     "user": {
      "displayName": "KAUAN DIVINO POUSO MARIANO",
      "userId": "14311127733215428590"
     },
     "user_tz": 180
    },
    "id": "b7vbyutVw8T6",
    "outputId": "5b638c25-80f5-4414-c25e-7d832bb977c6"
   },
   "outputs": [],
   "source": [
    "train_posts = set(train_df[\"post\"])\n",
    "dev_posts = set(dev_df[\"post\"])\n",
    "test_posts = set(test_df[\"post\"])\n",
    "\n",
    "train_dev_intersection = train_posts.intersection(dev_posts)\n",
    "train_test_intersection = train_posts.intersection(test_posts)\n",
    "dev_test_intersection = dev_posts.intersection(test_posts)\n",
    "\n",
    "train_dev_test_intersection = train_posts.intersection(dev_posts, test_posts)\n",
    "\n",
    "print(f\"Number of repeated posts between Train and Dev: {len(train_dev_intersection)}\")\n",
    "print(f\"Number of repeated posts between Train and Test: {len(train_test_intersection)}\")\n",
    "print(f\"Number of repeated posts between Dev and Test: {len(dev_test_intersection)}\")\n",
    "print(f\"Number of repeated posts between Train, Dev and Test: {len(train_dev_test_intersection)}\")"
   ]
  },
  {
   "cell_type": "code",
   "execution_count": null,
   "metadata": {
    "colab": {
     "base_uri": "https://localhost:8080/",
     "height": 449
    },
    "executionInfo": {
     "elapsed": 677,
     "status": "ok",
     "timestamp": 1741900763528,
     "user": {
      "displayName": "KAUAN DIVINO POUSO MARIANO",
      "userId": "14311127733215428590"
     },
     "user_tz": 180
    },
    "id": "z4o_W8E6PnPC",
    "outputId": "c3b697d5-73e1-437c-a829-d49fab81d86c"
   },
   "outputs": [],
   "source": [
    "train_dev = len(train_dev_intersection)\n",
    "train_test = len(train_test_intersection)\n",
    "dev_test = len(dev_test_intersection)\n",
    "train_dev_test = len(train_dev_test_intersection)\n",
    "\n",
    "train_size = len(train_posts)\n",
    "dev_size = len(dev_posts)\n",
    "test_size = len(test_posts)\n",
    "\n",
    "venn_colors = {'Train': 'red', 'Dev': 'blue', 'Test': 'green'}\n",
    "\n",
    "plt.figure(figsize=(6, 6))\n",
    "venn = venn3(\n",
    "    subsets=(train_size, dev_size, train_dev, test_size, train_test, dev_test, train_dev_test),\n",
    "    set_labels=('Train', 'Dev', 'Test'),\n",
    "    set_colors=(venn_colors['Train'], venn_colors['Dev'], venn_colors['Test'])\n",
    ")\n",
    "\n",
    "plt.title(\"Venn diagram of intersections between the datasets\")\n",
    "plt.show()"
   ]
  },
  {
   "cell_type": "code",
   "execution_count": null,
   "metadata": {
    "colab": {
     "base_uri": "https://localhost:8080/"
    },
    "executionInfo": {
     "elapsed": 85,
     "status": "ok",
     "timestamp": 1741900766734,
     "user": {
      "displayName": "KAUAN DIVINO POUSO MARIANO",
      "userId": "14311127733215428590"
     },
     "user_tz": 180
    },
    "id": "szcKWtN-xISj",
    "outputId": "4d305a0f-37b1-474d-a4ef-63adbabb6af0"
   },
   "outputs": [],
   "source": [
    "print(\"Examples of repeated posts between Train and Dev:\")\n",
    "print(list(train_dev_intersection)[:5])\n",
    "\n",
    "print(\"\\nExamples of repeated posts between Train and Test:\")\n",
    "print(list(train_test_intersection)[:5])\n",
    "\n",
    "print(\"\\nExamples of repeated posts between Dev and Test:\")\n",
    "print(list(dev_test_intersection)[:5])"
   ]
  },
  {
   "cell_type": "code",
   "execution_count": 12,
   "metadata": {
    "colab": {
     "base_uri": "https://localhost:8080/"
    },
    "executionInfo": {
     "elapsed": 15,
     "status": "ok",
     "timestamp": 1741900769401,
     "user": {
      "displayName": "KAUAN DIVINO POUSO MARIANO",
      "userId": "14311127733215428590"
     },
     "user_tz": 180
    },
    "id": "GkjHTKbo1ae5",
    "outputId": "dc60ab78-a218-462f-fa1f-dff50b644b96"
   },
   "outputs": [
    {
     "name": "stdout",
     "output_type": "stream",
     "text": [
      "Total de posts únicos após remoção das duplicatas: 1944\n"
     ]
    }
   ],
   "source": [
    "all_unique_posts = train_posts.union(dev_posts, test_posts)\n",
    "\n",
    "print(f\"Total de posts únicos após remoção das duplicatas: {len(all_unique_posts)}\")"
   ]
  },
  {
   "cell_type": "code",
   "execution_count": null,
   "metadata": {
    "colab": {
     "base_uri": "https://localhost:8080/"
    },
    "executionInfo": {
     "elapsed": 12,
     "status": "ok",
     "timestamp": 1741900779395,
     "user": {
      "displayName": "KAUAN DIVINO POUSO MARIANO",
      "userId": "14311127733215428590"
     },
     "user_tz": 180
    },
    "id": "TlxUVJvR1eyb",
    "outputId": "78a33fdc-fb71-4a77-9adf-a554c27da2ba"
   },
   "outputs": [],
   "source": [
    "# If a post is in Test, it is kept; if not, it is kept in Dev; otherwise, it is kept in Train.\n",
    "\n",
    "filtered_test_df = test_df[test_df[\"post\"].isin(all_unique_posts)]\n",
    "filtered_dev_df = dev_df[~dev_df[\"post\"].isin(filtered_test_df[\"post\"])]\n",
    "filtered_train_df = train_df[\n",
    "    ~train_df[\"post\"].isin(filtered_test_df[\"post\"]) &\n",
    "    ~train_df[\"post\"].isin(filtered_dev_df[\"post\"])\n",
    "]\n",
    "\n",
    "print(f\"Train size after removal: {len(filtered_train_df)}\")\n",
    "print(f\"Dev size after removal: {len(filtered_dev_df)}\")\n",
    "print(f\"Test size after removal: {len(filtered_test_df)}\")\n"
   ]
  },
  {
   "cell_type": "code",
   "execution_count": null,
   "metadata": {
    "colab": {
     "base_uri": "https://localhost:8080/"
    },
    "executionInfo": {
     "elapsed": 105,
     "status": "ok",
     "timestamp": 1741900791558,
     "user": {
      "displayName": "KAUAN DIVINO POUSO MARIANO",
      "userId": "14311127733215428590"
     },
     "user_tz": 180
    },
    "id": "rgwgBJjG11pR",
    "outputId": "78f996bd-24c4-4615-9044-9db930f1499c"
   },
   "outputs": [],
   "source": [
    "filtered_train_df.to_csv(\"train_por_overlap.csv\", index=False)\n",
    "filtered_dev_df.to_csv(\"dev_por_overlap.csv\", index=False)\n",
    "filtered_test_df.to_csv(\"test_por_overlap.csv\", index=False)\n",
    "\n",
    "print(\"New CSV files saved successfully!\")"
   ]
  },
  {
   "cell_type": "code",
   "execution_count": null,
   "metadata": {
    "colab": {
     "base_uri": "https://localhost:8080/",
     "height": 521
    },
    "executionInfo": {
     "elapsed": 260,
     "status": "ok",
     "timestamp": 1741900797231,
     "user": {
      "displayName": "KAUAN DIVINO POUSO MARIANO",
      "userId": "14311127733215428590"
     },
     "user_tz": 180
    },
    "id": "94j9QedS17ho",
    "outputId": "bc931b85-7c19-4041-f7f4-de2375cc7eae"
   },
   "outputs": [],
   "source": [
    "sizes = [len(filtered_train_df), len(filtered_dev_df), len(filtered_test_df)]\n",
    "datasets = [\"Train\", \"Dev\", \"Test\"]\n",
    "\n",
    "plt.figure(figsize=(6, 6))\n",
    "plt.pie(\n",
    "    sizes,\n",
    "    labels=datasets,\n",
    "    autopct='%1.1f%%',\n",
    "    startangle=140,\n",
    "    wedgeprops={'edgecolor': 'black'}\n",
    ")\n",
    "\n",
    "plt.title(\"Distribution of Data After Removing Duplicates\")\n",
    "plt.show()"
   ]
  }
 ],
 "metadata": {
  "colab": {
   "authorship_tag": "ABX9TyOlhuAoo7ENPOnKbsw9DlMN",
   "provenance": []
  },
  "kernelspec": {
   "display_name": "Python 3",
   "name": "python3"
  },
  "language_info": {
   "name": "python"
  }
 },
 "nbformat": 4,
 "nbformat_minor": 0
}
